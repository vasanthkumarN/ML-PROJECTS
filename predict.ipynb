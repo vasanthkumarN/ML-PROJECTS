{
  "cells": [
    {
      "cell_type": "code",
      "execution_count": 249,
      "metadata": {
        "id": "8rDjZXlG0tyr"
      },
      "outputs": [],
      "source": [
        "import pickle\n",
        "\n",
        "# dump information to that file\n",
        "pickle.dump(rfc, open('model.pkl', 'wb'))"
      ]
    },
    {
      "cell_type": "code",
      "execution_count": 252,
      "metadata": {
        "colab": {
          "base_uri": "https://localhost:8080/"
        },
        "id": "qi5ut37G0tyr",
        "outputId": "1cfac3b8-f682-49c2-fc7b-06951bd7623c"
      },
      "outputs": [
        {
          "name": "stdout",
          "output_type": "stream",
          "text": [
            "New Prediction: No Sepsis\n"
          ]
        }
      ],
      "source": [
        "import pandas as pd\n",
        "import numpy as np\n",
        "import joblib  # or just import joblib if you're using a recent version\n",
        "\n",
        "model_path = 'model.pkl'  # Update this path\n",
        "model = joblib.load(model_path)\n",
        "\n",
        "features_no_sepsis_new = [\n",
        "    3,  # Patient_ID (unique identifier)\n",
        "   36,\n",
        "    7.2,\n",
        "    0,\n",
        "    0.03,\n",
        "    17,\n",
        "    28,\n",
        "]\n",
        "\n",
        "# Assuming the necessary imports and model loading have been done\n",
        "feature_vector_no_sepsis_new = np.array(features_no_sepsis_new).reshape(1, -1)\n",
        "\n",
        "# Make a prediction using the new feature vector\n",
        "prediction_new = model.predict(feature_vector_no_sepsis_new)\n",
        "\n",
        "# Interpret the new prediction\n",
        "prediction_result_new = \"Sepsis\" if prediction_new[0] == 1 else \"No Sepsis\"\n",
        "print(f\"New Prediction: {prediction_result_new}\")\n"
      ]
    }
  ],
  "metadata": {
    "colab": {
      "provenance": []
    },
    "kernelspec": {
      "display_name": "Python 3 (ipykernel)",
      "language": "python",
      "name": "python3"
    },
    "language_info": {
      "codemirror_mode": {
        "name": "ipython",
        "version": 3
      },
      "file_extension": ".py",
      "mimetype": "text/x-python",
      "name": "python",
      "nbconvert_exporter": "python",
      "pygments_lexer": "ipython3",
      "version": "3.10.9"
    }
  },
  "nbformat": 4,
  "nbformat_minor": 0
}
