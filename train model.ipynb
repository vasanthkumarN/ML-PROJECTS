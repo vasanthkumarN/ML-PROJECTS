{
  "cells": [
    {
      "cell_type": "markdown",
      "metadata": {
        "id": "lFgXJGVQFHk9"
      },
      "source": [
        "Train model"
      ]
    },
    {
      "cell_type": "code",
      "execution_count": 236,
      "metadata": {
        "colab": {
          "base_uri": "https://localhost:8080/"
        },
        "id": "UqI7OMdDFJf_",
        "outputId": "32e8e517-04db-414a-b485-bf80f518c157"
      },
      "outputs": [
        {
          "name": "stdout",
          "output_type": "stream",
          "text": [
            "0    92.731059\n",
            "1     7.268941\n",
            "Name: SepsisLabel_max, dtype: float64\n"
          ]
        }
      ],
      "source": [
        "model_csv_path = \"/content/drive/MyDrive/Colab Notebooks/sepsis/modeldata.csv\"\n",
        "\n",
        "data = pd.read_csv(model_csv_path, sep=\",\")\n",
        "# Explanation: In this line, you are using the pandas library to read data from a CSV file located at\n",
        "# \"/content/aggregated_data.csv.\" You are storing this data in a variable called \"data.\" The sep=\",\"\n",
        "# parameter indicates that the values in the CSV file are separated by commas.\n",
        "# Count the number of instances for each target class\n",
        "# Gender_counts = data['Gender_first'].value_counts()\n",
        "# Explanation: Here, you are counting the number of instances for each unique value in the \"Gender_first\"\n",
        "# column of the \"data\" DataFrame. This is a way to see how many individuals belong to each gender category.\n",
        "\n",
        "Sepsis_counts = data['SepsisLabel_max'].value_counts()\n",
        "# Explanation: This line is similar to the previous one, but it counts the number of instances for each\n",
        "# unique value in the \"SepsisLabel_max\" column. This helps you understand how many individuals have or\n",
        "# don't have sepsis.\n",
        "\n",
        "# Calculate the percentage of each target class\n",
        "# Gender_percentages = Gender_counts / len(data) * 100\n",
        "# Explanation: In this line, you are calculating the percentage of each gender category within your dataset.\n",
        "# You divide the counts in \"Gender_counts\" by the total number of instances in the \"data\" DataFrame (given\n",
        "# by len(data)) and then multiply by 100 to express the result as a percentage.\n",
        "\n",
        "Sepsis_percentages = Sepsis_counts / len(data) * 100\n",
        "# Explanation: Similarly, this line calculates the percentage of instances with and without sepsis in your\n",
        "# dataset. It divides the counts in \"Sepsis_counts\" by the total number of instances in the \"data\"\n",
        "# DataFrame and expresses the result as a percentage.\n",
        "\n",
        "# Print the class percentages\n",
        "# print(Gender_percentages)\n",
        "print(Sepsis_percentages)\n",
        "# print(Gender_percentages): This line prints the percentages of each gender category to the console.\n",
        "\n",
        "# print(Sepsis_percentages): This line prints the percentages of instances with and without sepsis to\n",
        "# the console. These percentages provide insights into the class distribution in your dataset, which can\n",
        "# be crucial for understanding and modeling your data."
      ]
    },
    {
      "cell_type": "code",
      "execution_count": 237,
      "metadata": {
        "colab": {
          "base_uri": "https://localhost:8080/",
          "height": 452
        },
        "id": "Gjc2qL44F1nu",
        "outputId": "63bb809d-8caf-457b-a9e7-7127e25c5a72"
      },
      "outputs": [
        {
          "data": {
            "image/png": "[encoded data removed]",
            "text/plain": [
              "<Figure size 640x480 with 1 Axes>"
            ]
          },
          "metadata": {},
          "output_type": "display_data"
        }
      ],
      "source": [
        "# Create a bar chart\n",
        "fig, ax = plt.subplots()\n",
        "# Explanation: In this line, you're creating a new figure (\"fig\") and a set of axes (\"ax\") for your plot.\n",
        "# This is the starting point for creating your bar chart.\n",
        "\n",
        "ax.bar(Sepsis_percentages.index, Sepsis_percentages.values, tick_label=Sepsis_percentages.index, width=0.4, align='center', alpha=0.8)\n",
        "# Explanation: Here, you're using the \"ax.bar\" function to create a bar chart. You provide it with the x-values (Sepsis label categories),\n",
        "# y-values (Sepsis percentages), and other parameters to define how the bars should appear in the chart.\n",
        "# These parameters include the width of the bars, alignment, and transparency (alpha).\n",
        "ax.set_ylabel('Percentage')\n",
        "# Explanation: This line sets the label for the y-axis of the bar chart. It's important for labeling and\n",
        "# understanding the data being visualized.\n",
        "\n",
        "ax.set_title('Sepsis Label Distribution')\n",
        "# Explanation: Here, you're adding a title to the bar chart to describe what the chart represents.\n",
        "# In this case, it's the distribution of sepsis labels.\n",
        "\n",
        "# Show the plot\n",
        "plt.show()\n",
        "# Explanation: Finally, this line displays the bar chart you've created using the \"plt.show()\" function.\n",
        "# It shows the chart in your Jupyter Notebook, allowing you to visualize the distribution of sepsis labels\n",
        "# in your dataset."
      ]
    },
    {
      "cell_type": "code",
      "execution_count": 238,
      "metadata": {
        "colab": {
          "base_uri": "https://localhost:8080/"
        },
        "id": "LyonrHo_F6E8",
        "outputId": "a9f1563e-8fb3-4df1-e59f-a445faa592f4"
      },
      "outputs": [
        {
          "name": "stdout",
          "output_type": "stream",
          "text": [
            "Index(['Hour', 'HR', 'O2Sat', 'Temp', 'MAP', 'Resp', 'FiO2', 'PaCO2', 'SaO2',\n",
            "       'AST', 'BUN', 'Chloride', 'Creatinine', 'Glucose', 'Lactate',\n",
            "       'Bilirubin_total', 'TroponinI', 'Hgb', 'WBC', 'Platelets', 'Age',\n",
            "       'Gender', 'HospAdmTime', 'ICULOS', 'SepsisLabel', 'Patient_ID', 'Unit'],\n",
            "      dtype='object')\n"
          ]
        }
      ],
      "source": [
        "print (dataSepsis.columns)"
      ]
    },
    {
      "cell_type": "markdown",
      "metadata": {
        "id": "WoJJ5o_nF_04"
      },
      "source": [
        "**Under Sampling**"
      ]
    },
    {
      "cell_type": "code",
      "execution_count": 239,
      "metadata": {
        "colab": {
          "base_uri": "https://localhost:8080/"
        },
        "id": "NiD0QWAsGFkO",
        "outputId": "859d0262-2436-45bb-c642-4e3c41dd0411"
      },
      "outputs": [
        {
          "name": "stdout",
          "output_type": "stream",
          "text": [
            "number of sepsis label 1 is 2932\n",
            "while number of sepsis label 0 is 37404\n"
          ]
        }
      ],
      "source": [
        "data = pd.read_csv(model_csv_path, sep=\",\")\n",
        "# Explanation: In this line, you are using the pandas library to read data from a CSV file located at\n",
        "# \"/content/aggregated_data.csv.\" You are storing this data in a variable called \"data.\"\n",
        "# The sep=\",\" parameter indicates that the values in the CSV file are separated by commas.\n",
        "\n",
        "majority_class = data[data['SepsisLabel_max'] == 0]\n",
        "minority_class = data[data['SepsisLabel_max'] == 1]\n",
        "# Explanation: After reading the data, you are splitting it into two classes based on the values in the\n",
        "# \"SepsisLabel_max\" column. The \"majority_class\" variable contains instances where the \"SepsisLabel_max\"\n",
        "# is 0, and the \"minority_class\" variable contains instances where the \"SepsisLabel_max\" is 1.\n",
        "\n",
        "print('number of sepsis label 1 is {}'.format(len(minority_class)))\n",
        "print('while number of sepsis label 0 is {}'.format(len(majority_class)))\n",
        "# Explanation: You're printing the number of instances in each class. The first print statement tells you\n",
        "# how many instances have a \"SepsisLabel_max\" of 1, and the second print statement tells you how many\n",
        "# instances have a \"SepsisLabel_max\" of 0. This is important for understanding the class distribution\n",
        "# in your dataset, which can be crucial for machine learning tasks, especially in cases of imbalanced\n",
        "# datasets."
      ]
    },
    {
      "cell_type": "code",
      "execution_count": 240,
      "metadata": {
        "id": "MmZrErvjGTXu"
      },
      "outputs": [],
      "source": [
        "# Undersampling\n",
        "\n",
        "majority_class_subset = majority_class.sample(n=2*len(minority_class))\n",
        "# Explanation: In this line, you are creating a subset of the majority class (the class with more instances)\n",
        "# from your data. You use the .sample() function to randomly select a number of instances.\n",
        "# The n=2*len(minority_class) parameter determines that you want to sample a number of instances twice the\n",
        "# size of the minority class.\n",
        "\n",
        "data = pd.concat([majority_class_subset, minority_class])\n",
        "# Explanation: Here, you are concatenating (combining) the \"majority_class_subset\" and \"minority_class\"\n",
        "# dataframes to create a single \"data\" dataframe. This operation brings together the sampled majority class\n",
        "# instances and all the minority class instances, allowing you to create a more balanced dataset.\n",
        "# Balancing the dataset is often done to prevent class imbalance issues when training machine learning models."
      ]
    },
    {
      "cell_type": "code",
      "execution_count": 241,
      "metadata": {
        "colab": {
          "base_uri": "https://localhost:8080/"
        },
        "id": "ACjyj0_5GYia",
        "outputId": "0c1ae4d6-83e6-4fbf-8f65-35fbceae8c88"
      },
      "outputs": [
        {
          "name": "stdout",
          "output_type": "stream",
          "text": [
            "0    66.666667\n",
            "1    33.333333\n",
            "Name: SepsisLabel_max, dtype: float64\n"
          ]
        }
      ],
      "source": [
        "Sepsis_counts = data['SepsisLabel_max'].value_counts()\n",
        "# Explanation: In this line, you are counting the number of instances for each unique value in the\n",
        "# \"SepsisLabel_max\" column of the \"data\" DataFrame. This is a way to determine the distribution of sepsis\n",
        "# labels in your updated dataset, which now includes a balanced number of instances from the majority and\n",
        "#  minority classes.\n",
        "\n",
        "Sepsis_percentages = Sepsis_counts / len(data) * 100\n",
        "# Explanation: Similar to previous lines, here you are calculating the percentages of each sepsis label in\n",
        "# your dataset. You divide the counts in \"Sepsis_counts\" by the total number of instances in the \"data\"\n",
        "# DataFrame and multiply by 100 to express the result as a percentage.\n",
        "\n",
        "print(Sepsis_percentages)\n",
        "# Explanation: This line prints the percentages of each sepsis label to the console.\n",
        "# These percentages reflect the distribution of sepsis labels in your updated dataset, which you balanced\n",
        "# by oversampling the minority class. Balancing the dataset can be important for training machine learning models,\n",
        "#  as it prevents one class from dominating the training process."
      ]
    },
    {
      "cell_type": "code",
      "execution_count": 242,
      "metadata": {
        "colab": {
          "base_uri": "https://localhost:8080/",
          "height": 472
        },
        "id": "oaLU7F7KGc95",
        "outputId": "f68f47cf-a624-476e-a51f-f15c5cb17ed9"
      },
      "outputs": [
        {
          "data": {
            "image/png": "[encoded data removed]",
            "text/plain": [
              "<Figure size 640x480 with 1 Axes>"
            ]
          },
          "metadata": {},
          "output_type": "display_data"
        }
      ],
      "source": [
        "plt.bar(Sepsis_counts.index, Sepsis_percentages)\n",
        "# Explanation: In this line, you're using the \"plt.bar\" function to create a bar chart.\n",
        "# You're providing it with the x-values (Sepsis label categories) and y-values (Sepsis percentages) to\n",
        "# represent the distribution of sepsis labels after undersampling the dataset.\n",
        "# This chart visually displays the percentage of each sepsis label in the balanced dataset.\n",
        "plt.title(\"Percentage of Sepsis Labels after Undersampling\")\n",
        "# Explanation: Here, you're adding a title to the bar chart to describe what the chart represents.\n",
        "# In this case, it's the percentage of sepsis labels in the dataset after undersampling.\n",
        "plt.xlabel(\"Sepsis Label\")\n",
        "# Explanation: This line sets the label for the x-axis of the bar chart, which specifies the type of data\n",
        "# or categories being represented.\n",
        "plt.ylabel(\"Percentage\")\n",
        "# Explanation: Similarly, this line sets the label for the y-axis of the bar chart.\n",
        "# It provides information about the measurement represented on the y-axis, which, in this case, is\n",
        "# the percentage.\n",
        "plt.show()\n",
        "# Explanation: Finally, this line displays the bar chart you've created using the \"plt.show()\" function.\n",
        "# It shows the chart in your Jupyter Notebook, allowing you to visualize the percentage distribution of\n",
        "# sepsis labels after undersampling the dataset. This type of visualization is helpful for understanding\n",
        "# the class balance in your dataset, which is crucial for machine learning tasks."
      ]
    },
    {
      "cell_type": "markdown",
      "metadata": {
        "id": "DSxenmAbGgJE"
      },
      "source": [
        "**LOGISTIC REGRESSION**"
      ]
    },
    {
      "cell_type": "code",
      "execution_count": 243,
      "metadata": {
        "colab": {
          "base_uri": "https://localhost:8080/"
        },
        "id": "yDz0i2EzGkHn",
        "outputId": "a4aec22b-73d5-4fcc-a459-3ecaf7050033"
      },
      "outputs": [
        {
          "name": "stdout",
          "output_type": "stream",
          "text": [
            "Best hyperparameters: {'C': 0.01}\n",
            "Best score: 0.673502538071066\n",
            "Accuracy on validation set: 0.6493506493506493\n",
            "              precision    recall  f1-score   support\n",
            "\n",
            "           0       0.65      0.98      0.78       782\n",
            "           1       0.67      0.08      0.14       450\n",
            "\n",
            "    accuracy                           0.65      1232\n",
            "   macro avg       0.66      0.53      0.46      1232\n",
            "weighted avg       0.66      0.65      0.55      1232\n",
            "\n",
            "Accuracy on testing set: 0.6707086017430846\n",
            "              precision    recall  f1-score   support\n",
            "\n",
            "           0       0.68      0.96      0.80      1759\n",
            "           1       0.54      0.09      0.15       880\n",
            "\n",
            "    accuracy                           0.67      2639\n",
            "   macro avg       0.61      0.52      0.47      2639\n",
            "weighted avg       0.63      0.67      0.58      2639\n",
            "\n"
          ]
        }
      ],
      "source": [
        "from sklearn.model_selection import train_test_split, cross_val_score\n",
        "from sklearn.linear_model import LogisticRegression\n",
        "from sklearn.metrics import accuracy_score, classification_report\n",
        "from sklearn.model_selection import GridSearchCV\n",
        "import warnings\n",
        "warnings.filterwarnings(\"ignore\")\n",
        "# This part imports libraries for working with machine learning, including logistic regression, data splitting, cross-validation, and model evaluation.\n",
        "# It also suppresses warning messages to keep the output clean.\n",
        "\n",
        "# Separate features and target variables\n",
        "X = data.drop('SepsisLabel_max', axis=1)\n",
        "y = data['SepsisLabel_max']\n",
        "# Here, you are defining the feature variables (X) and the target variable (y) for your machine learning\n",
        "# model. You use the \"SepsisLabel_max\" column as the target variable, and all other columns in your\n",
        "# dataset are used as features.\n",
        "\n",
        "# Split data into training, validation, and testing sets\n",
        "X_trainval, X_test, y_trainval, y_test = train_test_split(X, y, test_size=0.3, random_state=42)\n",
        "X_train, X_val, y_train, y_val = train_test_split(X_trainval, y_trainval, test_size=0.2, random_state=42)\n",
        "# You split your data into training, validation, and testing sets using the train_test_split function.\n",
        "# The data is divided such that 70% is used for training, 20% for validation, and 10% for testing.\n",
        "# The random_state parameter ensures reproducibility.\n",
        "\n",
        "# Define the logistic regression model\n",
        "clf = LogisticRegression(random_state=42)\n",
        "\n",
        "# Define the hyperparameter grid to search over\n",
        "param_grid = {'C': [0.01, 0.1, 1, 10, 100]}\n",
        "\n",
        "# Perform grid search using 5-fold cross-validation on the training set\n",
        "grid_search = GridSearchCV(clf, param_grid, cv=5)\n",
        "grid_search.fit(X_train, y_train)\n",
        "# You use grid search to find the best hyperparameters for the logistic regression model.\n",
        "# The grid search involves five-fold cross-validation to evaluate different hyperparameter combinations.\n",
        "\n",
        "# Print the best hyperparameters and score\n",
        "print('Best hyperparameters:', grid_search.best_params_)\n",
        "print('Best score:', grid_search.best_score_)\n",
        "\n",
        "# Train the model on the training set with the best hyperparameters\n",
        "clf_best = LogisticRegression(C=grid_search.best_params_['C'], random_state=42)\n",
        "clf_best.fit(X_train, y_train)\n",
        "# You create a new logistic regression model using the best hyperparameters\n",
        "# and train it on the training data.\n",
        "\n",
        "# Evaluate the model performance on the validation set\n",
        "y_pred_val = clf_best.predict(X_val)\n",
        "LR_acc_val = accuracy_score(y_val, y_pred_val)\n",
        "print('Accuracy on validation set:', LR_acc_val)\n",
        "print(classification_report(y_val, y_pred_val))\n",
        "# Explaination : You make predictions on the validation set and evaluate the model's accuracy and generate\n",
        "# a classification report.\n",
        "\n",
        "# Evaluate the model performance on the testing set\n",
        "y_pred_test = clf_best.predict(X_test)\n",
        "LR_acc_test = accuracy_score(y_test, y_pred_test)\n",
        "print('Accuracy on testing set:', LR_acc_test)\n",
        "print(classification_report(y_test, y_pred_test))\n",
        "# Eplaination : You make predictions on the testing set and evaluate the model's accuracy and generate a classification report.\n",
        "# This assesses how well the trained logistic regression model performs on unseen data."
      ]
    },
    {
      "cell_type": "markdown",
      "metadata": {
        "id": "1q9eVij-G4CP"
      },
      "source": [
        "**NAIVE BAYES**"
      ]
    },
    {
      "cell_type": "code",
      "execution_count": 244,
      "metadata": {
        "colab": {
          "base_uri": "https://localhost:8080/"
        },
        "id": "_qKl6EimG5us",
        "outputId": "3f27ffea-fff3-4b98-c2f6-6f54b6c8f14e"
      },
      "outputs": [
        {
          "name": "stdout",
          "output_type": "stream",
          "text": [
            "Best hyperparameters: {'var_smoothing': 1e-10}\n",
            "Best score: 0.6976649746192893\n",
            "Validation Accuracy: 0.6801948051948052\n",
            "              precision    recall  f1-score   support\n",
            "\n",
            "           0       0.68      0.95      0.79       782\n",
            "           1       0.70      0.22      0.33       450\n",
            "\n",
            "    accuracy                           0.68      1232\n",
            "   macro avg       0.69      0.58      0.56      1232\n",
            "weighted avg       0.68      0.68      0.62      1232\n",
            "\n",
            "Testing Accuracy: 0.6763925729442971\n",
            "              precision    recall  f1-score   support\n",
            "\n",
            "           0       0.69      0.92      0.79      1759\n",
            "           1       0.54      0.18      0.27       880\n",
            "\n",
            "    accuracy                           0.68      2639\n",
            "   macro avg       0.62      0.55      0.53      2639\n",
            "weighted avg       0.64      0.68      0.62      2639\n",
            "\n"
          ]
        }
      ],
      "source": [
        "import pandas as pd\n",
        "from sklearn.model_selection import train_test_split\n",
        "from sklearn.naive_bayes import GaussianNB\n",
        "from sklearn.metrics import accuracy_score, classification_report\n",
        "from sklearn.model_selection import GridSearchCV\n",
        "\n",
        "# Define the Naive Bayes classifier\n",
        "clf = GaussianNB()\n",
        "\n",
        "# Define the hyperparameter grid to search over\n",
        "param_grid = {'var_smoothing': [1e-10, 1e-9, 1e-8]}\n",
        "\n",
        "# Perform grid search using 5-fold cross-validation\n",
        "grid_search = GridSearchCV(clf, param_grid, cv=5)\n",
        "grid_search.fit(X_train, y_train)\n",
        "\n",
        "# Print the best hyperparameters and score\n",
        "print('Best hyperparameters:', grid_search.best_params_)\n",
        "print('Best score:', grid_search.best_score_)\n",
        "\n",
        "# Train the model on the training data with the best hyperparameters\n",
        "clf_best = GaussianNB(var_smoothing=grid_search.best_params_['var_smoothing'])\n",
        "clf_best.fit(X_train, y_train)\n",
        "\n",
        "# Make predictions on the validation set\n",
        "y_pred_val = clf_best.predict(X_val)\n",
        "\n",
        "# Evaluate the model performance on the validation set\n",
        "NB_acc_val = accuracy_score(y_val, y_pred_val)\n",
        "\n",
        "# Make predictions on the testing data\n",
        "y_pred_test = clf_best.predict(X_test)\n",
        "\n",
        "# Evaluate the model performance on the testing set\n",
        "NB_acc_test = accuracy_score(y_test, y_pred_test)\n",
        "\n",
        "# Print the validation and testing accuracy and classification report\n",
        "print('Validation Accuracy:',NB_acc_val)\n",
        "print(classification_report(y_val, y_pred_val))\n",
        "\n",
        "print('Testing Accuracy:', NB_acc_test)\n",
        "print(classification_report(y_test, y_pred_test))\n"
      ]
    },
    {
      "cell_type": "markdown",
      "metadata": {
        "id": "hrUI4naSHKKv"
      },
      "source": [
        "**SUPPORT VECTOR MACHINE**"
      ]
    },
    {
      "cell_type": "code",
      "execution_count": 245,
      "metadata": {
        "colab": {
          "base_uri": "https://localhost:8080/"
        },
        "id": "44JBCALLHMAP",
        "outputId": "3bf98109-4070-421b-941e-b248f9b729e2"
      },
      "outputs": [
        {
          "name": "stdout",
          "output_type": "stream",
          "text": [
            "Validation Accuracy: 0.6347402597402597\n",
            "              precision    recall  f1-score   support\n",
            "\n",
            "           0       0.63      1.00      0.78       782\n",
            "           1       0.00      0.00      0.00       450\n",
            "\n",
            "    accuracy                           0.63      1232\n",
            "   macro avg       0.32      0.50      0.39      1232\n",
            "weighted avg       0.40      0.63      0.49      1232\n",
            "\n",
            "Testing Accuracy: 0.6665403561955286\n",
            "              precision    recall  f1-score   support\n",
            "\n",
            "           0       0.67      1.00      0.80      1759\n",
            "           1       0.00      0.00      0.00       880\n",
            "\n",
            "    accuracy                           0.67      2639\n",
            "   macro avg       0.33      0.50      0.40      2639\n",
            "weighted avg       0.44      0.67      0.53      2639\n",
            "\n"
          ]
        }
      ],
      "source": [
        "import pandas as pd\n",
        "from sklearn.svm import SVC\n",
        "from sklearn.metrics import accuracy_score, classification_report\n",
        "clf = SVC(kernel='rbf',C=5)\n",
        "clf.fit(X_train, y_train)\n",
        "y_pred = clf.predict(X_test)\n",
        "\n",
        "# Make predictions on the validation set\n",
        "y_pred_val = clf.predict(X_val)\n",
        "# Evaluate the model performance on the validation set\n",
        "SVM_acc_val = accuracy_score(y_val, y_pred_val)\n",
        "# Make predictions on the testing data\n",
        "y_pred_test = clf.predict(X_test)\n",
        "# Evaluate the model performance on the testing set\n",
        "SVM_acc_test = accuracy_score(y_test, y_pred_test)\n",
        "print('Validation Accuracy:', SVM_acc_val)\n",
        "print(classification_report(y_val, y_pred_val))\n",
        "\n",
        "print('Testing Accuracy:', SVM_acc_test)\n",
        "print(classification_report(y_test, y_pred_test))"
      ]
    },
    {
      "cell_type": "markdown",
      "metadata": {
        "id": "lM-cLvjlHSaf"
      },
      "source": [
        "**RANDOM FOREST**"
      ]
    },
    {
      "cell_type": "code",
      "execution_count": 246,
      "metadata": {
        "colab": {
          "base_uri": "https://localhost:8080/"
        },
        "id": "eC9AcG-_HUL-",
        "outputId": "e729d000-294b-4a99-96dc-0ce68afbbac5"
      },
      "outputs": [
        {
          "name": "stdout",
          "output_type": "stream",
          "text": [
            "Validation Accuracy: 0.75\n",
            "              precision    recall  f1-score   support\n",
            "\n",
            "           0       0.75      0.91      0.82       782\n",
            "           1       0.76      0.47      0.58       450\n",
            "\n",
            "    accuracy                           0.75      1232\n",
            "   macro avg       0.75      0.69      0.70      1232\n",
            "weighted avg       0.75      0.75      0.73      1232\n",
            "\n",
            "Testing Accuracy: 0.7468738158393331\n",
            "              precision    recall  f1-score   support\n",
            "\n",
            "           0       0.77      0.88      0.82      1759\n",
            "           1       0.67      0.47      0.55       880\n",
            "\n",
            "    accuracy                           0.75      2639\n",
            "   macro avg       0.72      0.68      0.69      2639\n",
            "weighted avg       0.74      0.75      0.73      2639\n",
            "\n"
          ]
        }
      ],
      "source": [
        "import pandas as pd\n",
        "from sklearn.ensemble import RandomForestClassifier\n",
        "from sklearn.metrics import accuracy_score, classification_report\n",
        "from sklearn.model_selection import train_test_split\n",
        "\n",
        "# Train a Random Forest classifier on the training data\n",
        "rfc = RandomForestClassifier(n_estimators=100, max_depth=10, random_state=42)\n",
        "rfc.fit(X_train, y_train)\n",
        "\n",
        "# Make predictions on the validation set\n",
        "y_pred_val = rfc.predict(X_val)\n",
        "\n",
        "# Evaluate the model performance on the validation set\n",
        "RF_acc_val = accuracy_score(y_val, y_pred_val)\n",
        "print('Validation Accuracy:', RF_acc_val)\n",
        "print(classification_report(y_val, y_pred_val))\n",
        "\n",
        "# Make predictions on the testing set\n",
        "y_pred_test = rfc.predict(X_test)\n",
        "\n",
        "# Evaluate the model performance on the testing set\n",
        "RF_acc_test = accuracy_score(y_test, y_pred_test)\n",
        "print('Testing Accuracy:', RF_acc_test)\n",
        "print(classification_report(y_test, y_pred_test))"
      ]
    },
    {
      "cell_type": "markdown",
      "metadata": {
        "id": "CpDZ6cqrHcRk"
      },
      "source": [
        "**COMPARISON OF ACCURACY**"
      ]
    },
    {
      "cell_type": "code",
      "execution_count": 247,
      "metadata": {
        "colab": {
          "base_uri": "https://localhost:8080/",
          "height": 452
        },
        "id": "dlkg4xTZHd7q",
        "outputId": "7ab7d722-0bbb-4123-90a2-97606a62a7b4"
      },
      "outputs": [
        {
          "data": {
            "image/png": "[encoded data removed]",
            "text/plain": [
              "<Figure size 640x480 with 1 Axes>"
            ]
          },
          "metadata": {},
          "output_type": "display_data"
        }
      ],
      "source": [
        "classifiers = ['LogisticRegression', 'SVM', 'naive_bayes','RF']\n",
        "accuracies = [LR_acc_test, SVM_acc_test, NB_acc_test, RF_acc_test]\n",
        "\n",
        "plt.bar(classifiers, accuracies)\n",
        "plt.ylim([0,1])\n",
        "plt.ylabel('Accuracies')\n",
        "plt.title('Sepsis Prediction Accuracy for Different Classifiers')\n",
        "plt.show()\n"
      ]
    },
    {
      "cell_type": "code",
      "execution_count": 248,
      "metadata": {
        "colab": {
          "base_uri": "https://localhost:8080/",
          "height": 452
        },
        "id": "tKDNFiWtq_Dn",
        "outputId": "a88fc027-4cb7-4b5e-f6e6-841897aaed35"
      },
      "outputs": [
        {
          "data": {
            "image/png": "[encoded data removed]",
            "text/plain": [
              "<Figure size 640x480 with 1 Axes>"
            ]
          },
          "metadata": {},
          "output_type": "display_data"
        }
      ],
      "source": [
        "classifiers = ['LogisticRegression', 'SVM', 'naive_bayes','RF']\n",
        "accuracies = [LR_acc_val, SVM_acc_val, NB_acc_val, RF_acc_val]\n",
        "\n",
        "plt.bar(classifiers, accuracies)\n",
        "plt.ylim([0,1])\n",
        "plt.ylabel('Accuracies')\n",
        "plt.title('Sepsis Prediction Validation Accuracy for Different Classifiers')\n",
        "plt.show()"
      ]
    },
    {
      "cell_type": "code",
      "execution_count": 249,
      "metadata": {
        "id": "8rDjZXlG0tyr"
      },
      "outputs": [],
      "source": [
        "import pickle\n",
        "\n",
        "# dump information to that file\n",
        "pickle.dump(rfc, open('model.pkl', 'wb'))"
      ]
    },
    {
      "cell_type": "code",
      "execution_count": 252,
      "metadata": {
        "colab": {
          "base_uri": "https://localhost:8080/"
        },
        "id": "qi5ut37G0tyr",
        "outputId": "1cfac3b8-f682-49c2-fc7b-06951bd7623c"
      },
      "outputs": [
        {
          "name": "stdout",
          "output_type": "stream",
          "text": [
            "New Prediction: No Sepsis\n"
          ]
        }
      ],
      "source": [
        "import pandas as pd\n",
        "import numpy as np\n",
        "import joblib  # or just import joblib if you're using a recent version\n",
        "\n",
        "model_path = 'model.pkl'  # Update this path\n",
        "model = joblib.load(model_path)\n",
        "\n",
        "features_no_sepsis_new = [\n",
        "    3,  # Patient_ID (unique identifier)\n",
        "   36,\n",
        "    7.2,\n",
        "    0,\n",
        "    0.03,\n",
        "    17,\n",
        "    28,\n",
        "]\n",
        "\n",
        "# Assuming the necessary imports and model loading have been done\n",
        "feature_vector_no_sepsis_new = np.array(features_no_sepsis_new).reshape(1, -1)\n",
        "\n",
        "# Make a prediction using the new feature vector\n",
        "prediction_new = model.predict(feature_vector_no_sepsis_new)\n",
        "\n",
        "# Interpret the new prediction\n",
        "prediction_result_new = \"Sepsis\" if prediction_new[0] == 1 else \"No Sepsis\"\n",
        "print(f\"New Prediction: {prediction_result_new}\")\n"
      ]
    },
    {
      "cell_type": "code",
      "execution_count": null,
      "metadata": {
        "id": "aDI6jXF70tys"
      },
      "outputs": [],
      "source": []
    },
    {
      "cell_type": "code",
      "execution_count": null,
      "metadata": {
        "id": "zwaThdtN0tys"
      },
      "outputs": [],
      "source": []
    }
  ],
  "metadata": {
    "colab": {
      "provenance": []
    },
    "kernelspec": {
      "display_name": "Python 3 (ipykernel)",
      "language": "python",
      "name": "python3"
    },
    "language_info": {
      "codemirror_mode": {
        "name": "ipython",
        "version": 3
      },
      "file_extension": ".py",
      "mimetype": "text/x-python",
      "name": "python",
      "nbconvert_exporter": "python",
      "pygments_lexer": "ipython3",
      "version": "3.10.9"
    }
  },
  "nbformat": 4,
  "nbformat_minor": 0
}
